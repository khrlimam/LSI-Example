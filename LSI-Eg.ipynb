{
 "cells": [
  {
   "cell_type": "markdown",
   "metadata": {},
   "source": [
    "# Latent Semantic Indexing (LSI)"
   ]
  },
  {
   "cell_type": "markdown",
   "metadata": {},
   "source": [
    "Terdapat dokumen sebagai berikut:"
   ]
  },
  {
   "cell_type": "code",
   "execution_count": 1,
   "metadata": {
    "collapsed": true
   },
   "outputs": [],
   "source": [
    "d1 = \"Shipment of gold damaged in a fire\"\n",
    "d2 = \"Delivery of silver arrived in a silver truck\"\n",
    "d3 = \"Shipment of gold arrived in a truck\""
   ]
  },
  {
   "cell_type": "markdown",
   "metadata": {},
   "source": [
    "_Term Frequency_ akan digunakan untuk memberi bobot pada setiap _term_/kata pada dokumen dan query, juga akan diberlakukan aturan-aturan sebagai berikut:\n",
    "- _stop words_ akan diabaikan\n",
    "- _text_ akan di pecah perkata dan akan di _lowercase_\n",
    "- proses _stemming_ tidak akan dilakukan\n",
    "- _term_/kata akan diurutkan sesuai alfabet"
   ]
  },
  {
   "cell_type": "markdown",
   "metadata": {},
   "source": [
    "__Permasalahan:__ Akan digunakan metode _LSI Latent Semantic Indexing_ untuk meranking dokumen dengan query:"
   ]
  },
  {
   "cell_type": "code",
   "execution_count": 2,
   "metadata": {
    "collapsed": true
   },
   "outputs": [],
   "source": [
    "query = \"gold silver truck\""
   ]
  },
  {
   "cell_type": "markdown",
   "metadata": {},
   "source": [
    "__LANGKAH 1:__ Beri bobot untuk masing-masing kata kemudian bangun matrix __A__ dan query matrix: "
   ]
  },
  {
   "cell_type": "code",
   "execution_count": 3,
   "metadata": {
    "scrolled": true
   },
   "outputs": [
    {
     "name": "stdout",
     "output_type": "stream",
     "text": [
      "\n",
      "Matrix A\n",
      "[[1 1 1]\n",
      " [0 1 1]\n",
      " [1 0 0]\n",
      " [0 1 0]\n",
      " [1 0 0]\n",
      " [1 0 1]\n",
      " [1 1 1]\n",
      " [1 1 1]\n",
      " [1 0 1]\n",
      " [0 2 0]\n",
      " [0 1 1]]\n",
      "\n",
      "\n",
      "Matrix q\n",
      "[0 0 0 0 0 1 0 0 0 1 1]\n"
     ]
    }
   ],
   "source": [
    "import numpy as np\n",
    "\n",
    "docs = [d1,d2,d3]\n",
    "tokenized_doc = [d.lower().split() for d in docs]\n",
    "tokenized_query = query.lower().split()\n",
    "\n",
    "terms = set().union(*tokenized_doc)\n",
    "sorted_terms = sorted(terms)\n",
    "\n",
    "A = list()\n",
    "\n",
    "for d in tokenized_doc:\n",
    "  A.append([d.count(term) for term in sorted_terms])\n",
    "\n",
    "Q = np.array([tokenized_query.count(term) for term in sorted_terms])\n",
    "  \n",
    "A = np.array(A)\n",
    "\n",
    "print \"\\nMatrix A\"\n",
    "print A.transpose()\n",
    "print \"\\n\"\n",
    "print \"Matrix q\"\n",
    "print Q.transpose()"
   ]
  },
  {
   "cell_type": "markdown",
   "metadata": {},
   "source": [
    "__LANGKAH 2:__ Uraikan matrix A, dan cari nilai Matrix U, S dan V"
   ]
  },
  {
   "cell_type": "code",
   "execution_count": 4,
   "metadata": {
    "scrolled": true
   },
   "outputs": [
    {
     "name": "stdout",
     "output_type": "stream",
     "text": [
      "U\n",
      "[[-0.42012157 -0.07479925 -0.04597244]\n",
      " [-0.29948676  0.20009226  0.40782766]\n",
      " [-0.12063481 -0.27489151 -0.4538001 ]\n",
      " [-0.157561    0.30464762 -0.2006467 ]\n",
      " [-0.12063481 -0.27489151 -0.4538001 ]\n",
      " [-0.26256057 -0.37944687  0.15467426]\n",
      " [-0.42012157 -0.07479925 -0.04597244]\n",
      " [-0.42012157 -0.07479925 -0.04597244]\n",
      " [-0.26256057 -0.37944687  0.15467426]\n",
      " [-0.315122    0.60929523 -0.40129339]\n",
      " [-0.29948676  0.20009226  0.40782766]]\n",
      "S\n",
      "[ 4.09887197  2.3615708   1.27366868]\n",
      "V transpose\n",
      "[[-0.49446664 -0.64582238 -0.58173551]\n",
      " [-0.64917576  0.71944692 -0.24691489]\n",
      " [-0.57799098 -0.25555741  0.77499473]]\n"
     ]
    }
   ],
   "source": [
    "U,S,Vt = np.linalg.svd(A.transpose(), full_matrices=False)\n",
    "\n",
    "print \"U\"\n",
    "print U\n",
    "print \"S\"\n",
    "print S\n",
    "print \"V transpose\"\n",
    "print Vt"
   ]
  },
  {
   "cell_type": "markdown",
   "metadata": {},
   "source": [
    "__LANGKAH 3:__ Lakukan pendekatan _Rank 2_ dengan mengambil 2 kolom pertama dari matrix __U__ dan __V__ dan ambil 2 kolom dan row dari matrix __S__"
   ]
  },
  {
   "cell_type": "code",
   "execution_count": 5,
   "metadata": {},
   "outputs": [
    {
     "name": "stdout",
     "output_type": "stream",
     "text": [
      "Matrix Uk\n",
      "[[-0.42012157 -0.07479925]\n",
      " [-0.29948676  0.20009226]\n",
      " [-0.12063481 -0.27489151]\n",
      " [-0.157561    0.30464762]\n",
      " [-0.12063481 -0.27489151]\n",
      " [-0.26256057 -0.37944687]\n",
      " [-0.42012157 -0.07479925]\n",
      " [-0.42012157 -0.07479925]\n",
      " [-0.26256057 -0.37944687]\n",
      " [-0.315122    0.60929523]\n",
      " [-0.29948676  0.20009226]]\n",
      "Matrix Sk\n",
      "[ 4.09887197  2.3615708 ]\n",
      "Matrix Vtk\n",
      "[[-0.49446664 -0.64582238 -0.58173551]\n",
      " [-0.64917576  0.71944692 -0.24691489]]\n"
     ]
    }
   ],
   "source": [
    "Uk = U[:,:2]\n",
    "Sk = S[:2]\n",
    "Vtk = Vt[:2,:]\n",
    "\n",
    "print \"Matrix Uk\"\n",
    "print Uk\n",
    "print \"Matrix Sk\"\n",
    "print Sk\n",
    "print \"Matrix Vtk\"\n",
    "print Vtk"
   ]
  },
  {
   "cell_type": "markdown",
   "metadata": {},
   "source": [
    "__LANGKAH 4:__ Cari nilai vector dokumen yang baru dari matrix yang tereduksi sebelumnya"
   ]
  },
  {
   "cell_type": "code",
   "execution_count": 6,
   "metadata": {},
   "outputs": [
    {
     "name": "stdout",
     "output_type": "stream",
     "text": [
      "d1(-0.494466642225,-0.649175761898)\n",
      "d2(-0.64582237611,0.719446917487)\n",
      "d3(-0.5817355054,-0.246914890364)\n"
     ]
    }
   ],
   "source": [
    "DOCS_eigen_vector = [(Vtk[0][a], Vtk[1][a]) for a in range(Vtk.shape[1])]\n",
    "\n",
    "for index, doc_vector in enumerate(DOCS_eigen_vector):\n",
    "    print \"d{}({},{})\".format(index+1, doc_vector[0], doc_vector[1])"
   ]
  },
  {
   "cell_type": "markdown",
   "metadata": {},
   "source": [
    "__LANGKAH 5:__ Temukan koordinat query vector yang baru"
   ]
  },
  {
   "cell_type": "code",
   "execution_count": 7,
   "metadata": {},
   "outputs": [
    {
     "name": "stdout",
     "output_type": "stream",
     "text": [
      "[-0.21400262  0.18205705]\n"
     ]
    }
   ],
   "source": [
    "Sk_inverse = np.linalg.inv(np.diag(Sk))\n",
    "new_Q_vector = Q.dot(Uk).dot(Sk_inverse)\n",
    "print new_Q_vector"
   ]
  },
  {
   "cell_type": "markdown",
   "metadata": {},
   "source": [
    "__Step 6:__ Rank masing-masing dokumen secara descending sesuai nilai similaritas"
   ]
  },
  {
   "cell_type": "code",
   "execution_count": 8,
   "metadata": {},
   "outputs": [
    {
     "name": "stdout",
     "output_type": "stream",
     "text": [
      "Urutkan dokumen yang sama\n",
      "d2 Delivery of silver arrived in a silver truck, nilai similaritas: 0.990987426748\n",
      "d3 Shipment of gold arrived in a truck, nilai similaritas: 0.447959465828\n",
      "d1 Shipment of gold damaged in a fire, nilai similaritas: -0.0539508436664\n"
     ]
    }
   ],
   "source": [
    "from manual_tests import sim\n",
    "\n",
    "similarities = list()\n",
    "for index, doc in enumerate(DOCS_eigen_vector):\n",
    "    similarities.append((index, sim(new_Q_vector, doc)))\n",
    "    \n",
    "\n",
    "rank_similarity = sorted(similarities, key=lambda item: -item[1])\n",
    "\n",
    "print \"Urutkan dokumen yang sama\"\n",
    "for index, sim_value in rank_similarity:\n",
    "    print \"d{} {}, nilai similaritas: {}\".format(index+1, docs[index], sim_value)\n"
   ]
  }
 ],
 "metadata": {
  "kernelspec": {
   "display_name": "Python 2",
   "language": "python",
   "name": "python2"
  },
  "language_info": {
   "codemirror_mode": {
    "name": "ipython",
    "version": 2
   },
   "file_extension": ".py",
   "mimetype": "text/x-python",
   "name": "python",
   "nbconvert_exporter": "python",
   "pygments_lexer": "ipython2",
   "version": "2.7.9"
  }
 },
 "nbformat": 4,
 "nbformat_minor": 2
}
